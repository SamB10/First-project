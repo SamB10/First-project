{
 "cells": [
  {
   "cell_type": "markdown",
   "metadata": {},
   "source": [
    "## Configuring\n",
    "\n",
    "git config --global user.name \"Sam\"\n",
    "\n",
    "git config --global user.email \"sambrown1091@gmail.com\"\n",
    "\n",
    "git config --global color.ui \"auto\"\n",
    "\n",
    "git config --global core.editor \"emacs\""
   ]
  },
  {
   "cell_type": "markdown",
   "metadata": {},
   "source": [
    "## Checking status\n",
    "\n",
    "git status"
   ]
  },
  {
   "cell_type": "markdown",
   "metadata": {},
   "source": [
    "## Adding file\n",
    "\n",
    "git add filename\n",
    "\n",
    "git status"
   ]
  },
  {
   "cell_type": "markdown",
   "metadata": {},
   "source": [
    "## Commi a change\n",
    "\n",
    "git commit -m \"come comments\" filename\n",
    "\n",
    "git status\n",
    "\n",
    "git log\n",
    "\n",
    "git status"
   ]
  },
  {
   "cell_type": "code",
   "execution_count": 1,
   "metadata": {
    "collapsed": false
   },
   "outputs": [
    {
     "name": "stdout",
     "output_type": "stream",
     "text": [
      "Writing tmpfile\n"
     ]
    }
   ],
   "source": [
    "%%file tmpfile\n",
    "A short-lived file."
   ]
  },
  {
   "cell_type": "code",
   "execution_count": 3,
   "metadata": {
    "collapsed": false
   },
   "outputs": [],
   "source": [
    "!git add tmpfile"
   ]
  },
  {
   "cell_type": "markdown",
   "metadata": {},
   "source": [
    "## Remove a file\n",
    "\n",
    "git rm tmpfile\n",
    "\n",
    "git commit -m \"Remove the temporary file\" tmpfile\n",
    "\n",
    "git status"
   ]
  },
  {
   "cell_type": "code",
   "execution_count": 5,
   "metadata": {
    "collapsed": false
   },
   "outputs": [
    {
     "name": "stdout",
     "output_type": "stream",
     "text": [
      "error: 'tmpfile' has changes staged in the index\r\n",
      "(use --cached to keep the file, or -f to force removal)\r\n"
     ]
    }
   ],
   "source": [
    "!git rm tmpfile"
   ]
  },
  {
   "cell_type": "code",
   "execution_count": 4,
   "metadata": {
    "collapsed": false
   },
   "outputs": [
    {
     "name": "stdout",
     "output_type": "stream",
     "text": [
      "\u001b[1mdiff --git a/Lesson_2.ipynb b/Lesson_2.ipynb\u001b[m\r\n",
      "\u001b[1mindex 26b70dc..0580c1d 100644\u001b[m\r\n",
      "\u001b[1m--- a/Lesson_2.ipynb\u001b[m\r\n",
      "\u001b[1m+++ b/Lesson_2.ipynb\u001b[m\r\n",
      "\u001b[36m@@ -52,12 +52,58 @@\u001b[m\r\n",
      "   },\u001b[m\r\n",
      "   {\u001b[m\r\n",
      "    \"cell_type\": \"code\",\u001b[m\r\n",
      "\u001b[32m+\u001b[m\u001b[32m   \"execution_count\": 1,\u001b[m\r\n",
      "\u001b[32m+\u001b[m\u001b[32m   \"metadata\": {\u001b[m\r\n",
      "\u001b[32m+\u001b[m\u001b[32m    \"collapsed\": false\u001b[m\r\n",
      "\u001b[32m+\u001b[m\u001b[32m   },\u001b[m\r\n",
      "\u001b[32m+\u001b[m\u001b[32m   \"outputs\": [\u001b[m\r\n",
      "\u001b[32m+\u001b[m\u001b[32m    {\u001b[m\r\n",
      "\u001b[32m+\u001b[m\u001b[32m     \"name\": \"stdout\",\u001b[m\r\n",
      "\u001b[32m+\u001b[m\u001b[32m     \"output_type\": \"stream\",\u001b[m\r\n",
      "\u001b[32m+\u001b[m\u001b[32m     \"text\": [\u001b[m\r\n",
      "\u001b[32m+\u001b[m\u001b[32m      \"Writing tmpfile\\n\"\u001b[m\r\n",
      "\u001b[32m+\u001b[m\u001b[32m     ]\u001b[m\r\n",
      "\u001b[32m+\u001b[m\u001b[32m    }\u001b[m\r\n",
      "\u001b[32m+\u001b[m\u001b[32m   ],\u001b[m\r\n",
      "\u001b[32m+\u001b[m\u001b[32m   \"source\": [\u001b[m\r\n",
      "\u001b[32m+\u001b[m\u001b[32m    \"%%file tmpfile\\n\",\u001b[m\r\n",
      "\u001b[32m+\u001b[m\u001b[32m    \"A short-lived file.\"\u001b[m\r\n",
      "\u001b[32m+\u001b[m\u001b[32m   ]\u001b[m\r\n",
      "\u001b[32m+\u001b[m\u001b[32m  },\u001b[m\r\n",
      "\u001b[32m+\u001b[m\u001b[32m  {\u001b[m\r\n",
      "\u001b[32m+\u001b[m\u001b[32m   \"cell_type\": \"code\",\u001b[m\r\n",
      "\u001b[32m+\u001b[m\u001b[32m   \"execution_count\": 3,\u001b[m\r\n",
      "\u001b[32m+\u001b[m\u001b[32m   \"metadata\": {\u001b[m\r\n",
      "\u001b[32m+\u001b[m\u001b[32m    \"collapsed\": false\u001b[m\r\n",
      "\u001b[32m+\u001b[m\u001b[32m   },\u001b[m\r\n",
      "\u001b[32m+\u001b[m\u001b[32m   \"outputs\": [],\u001b[m\r\n",
      "\u001b[32m+\u001b[m\u001b[32m   \"source\": [\u001b[m\r\n",
      "\u001b[32m+\u001b[m\u001b[32m    \"!git add tmpfile\"\u001b[m\r\n",
      "\u001b[32m+\u001b[m\u001b[32m   ]\u001b[m\r\n",
      "\u001b[32m+\u001b[m\u001b[32m  },\u001b[m\r\n",
      "\u001b[32m+\u001b[m\u001b[32m  {\u001b[m\r\n",
      "\u001b[32m+\u001b[m\u001b[32m   \"cell_type\": \"markdown\",\u001b[m\r\n",
      "\u001b[32m+\u001b[m\u001b[32m   \"metadata\": {},\u001b[m\r\n",
      "\u001b[32m+\u001b[m\u001b[32m   \"source\": [\u001b[m\r\n",
      "\u001b[32m+\u001b[m\u001b[32m    \"## Remove a file\\n\",\u001b[m\r\n",
      "\u001b[32m+\u001b[m\u001b[32m    \"\\n\",\u001b[m\r\n",
      "\u001b[32m+\u001b[m\u001b[32m    \"git rm tmpfile\\n\",\u001b[m\r\n",
      "\u001b[32m+\u001b[m\u001b[32m    \"\\n\",\u001b[m\r\n",
      "\u001b[32m+\u001b[m\u001b[32m    \"git commit -m \\\"Remove the temporary file\\\" tmpfile\\n\",\u001b[m\r\n",
      "\u001b[32m+\u001b[m\u001b[32m    \"\\n\",\u001b[m\r\n",
      "\u001b[32m+\u001b[m\u001b[32m    \"git status\"\u001b[m\r\n",
      "\u001b[32m+\u001b[m\u001b[32m   ]\u001b[m\r\n",
      "\u001b[32m+\u001b[m\u001b[32m  },\u001b[m\r\n",
      "\u001b[32m+\u001b[m\u001b[32m  {\u001b[m\r\n",
      "\u001b[32m+\u001b[m\u001b[32m   \"cell_type\": \"code\",\u001b[m\r\n",
      "    \"execution_count\": null,\u001b[m\r\n",
      "    \"metadata\": {\u001b[m\r\n",
      "     \"collapsed\": true\u001b[m\r\n",
      "    },\u001b[m\r\n",
      "    \"outputs\": [],\u001b[m\r\n",
      "\u001b[31m-   \"source\": []\u001b[m\r\n",
      "\u001b[32m+\u001b[m\u001b[32m   \"source\": [\u001b[m\r\n",
      "\u001b[32m+\u001b[m\u001b[32m    \"!git diff\"\u001b[m\r\n",
      "\u001b[32m+\u001b[m\u001b[32m   ]\u001b[m\r\n",
      "   }\u001b[m\r\n",
      "  ],\u001b[m\r\n",
      "  \"metadata\": {\u001b[m\r\n"
     ]
    }
   ],
   "source": [
    "!git diff Lesson_2.ipynb"
   ]
  },
  {
   "cell_type": "markdown",
   "metadata": {},
   "source": [
    "git remote add origin https://github.com/SamB10/First-project.git"
   ]
  },
  {
   "cell_type": "code",
   "execution_count": null,
   "metadata": {
    "collapsed": true
   },
   "outputs": [],
   "source": []
  }
 ],
 "metadata": {
  "anaconda-cloud": {},
  "kernelspec": {
   "display_name": "Python [conda root]",
   "language": "python",
   "name": "conda-root-py"
  },
  "language_info": {
   "codemirror_mode": {
    "name": "ipython",
    "version": 2
   },
   "file_extension": ".py",
   "mimetype": "text/x-python",
   "name": "python",
   "nbconvert_exporter": "python",
   "pygments_lexer": "ipython2",
   "version": "2.7.12"
  }
 },
 "nbformat": 4,
 "nbformat_minor": 1
}
