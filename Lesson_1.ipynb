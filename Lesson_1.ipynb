{
 "cells": [
  {
   "cell_type": "code",
   "execution_count": 51,
   "metadata": {
    "collapsed": true
   },
   "outputs": [],
   "source": [
    "# Lecture 1\n",
    "import sys"
   ]
  },
  {
   "cell_type": "markdown",
   "metadata": {},
   "source": [
    "# Shortcuts\n",
    "\n",
    "## Most useful ones\n",
    "\n",
    "ESC-m transforms the cell into markdown\n",
    "\n",
    "ESC-y transforms the cell into code\n",
    "\n",
    "SHIFT-ENTER excecutes the cell\n",
    "\n",
    "**bold font**\n",
    "\n",
    "`emphasized´\n",
    "\n",
    "_italic_"
   ]
  },
  {
   "cell_type": "markdown",
   "metadata": {},
   "source": [
    "### Lists\n",
    "\n",
    "1. item 1\n",
    "    - bullet 1\n",
    "    - bullet 2\n",
    "    - bullet 3\n",
    "2. item 2 \n",
    "3. item 3\n",
    "\n",
    "- item 1\n",
    "- item 2\n",
    "- item 3"
   ]
  },
  {
   "cell_type": "markdown",
   "metadata": {},
   "source": [
    "### Math\n",
    "\n",
    "$10^2$\n",
    "\n",
    "$\\log 12 * x$\n",
    "\n",
    "$(a+b)/c$\n",
    "\n",
    "$\\frac{1}{2}$"
   ]
  },
  {
   "cell_type": "markdown",
   "metadata": {},
   "source": [
    "## Writing code\n",
    "\n",
    "```python\n",
    "import sys\n",
    "```\n",
    "\n",
    "```bash\n",
    "export PATH=`/home/user/...´\n",
    "```"
   ]
  },
  {
   "cell_type": "code",
   "execution_count": 52,
   "metadata": {
    "collapsed": false
   },
   "outputs": [
    {
     "name": "stdout",
     "output_type": "stream",
     "text": [
      "Monday\n"
     ]
    }
   ],
   "source": [
    "%%bash\n",
    "echo 'Monday'"
   ]
  },
  {
   "cell_type": "code",
   "execution_count": 58,
   "metadata": {
    "collapsed": false
   },
   "outputs": [
    {
     "name": "stdout",
     "output_type": "stream",
     "text": [
      "csat8799\r\n"
     ]
    }
   ],
   "source": [
    "! whoami"
   ]
  },
  {
   "cell_type": "code",
   "execution_count": 59,
   "metadata": {
    "collapsed": false
   },
   "outputs": [
    {
     "name": "stdout",
     "output_type": "stream",
     "text": [
      "csat8799\n",
      "/home/csat8799/Programming_Sam\n"
     ]
    }
   ],
   "source": [
    "%%bash\n",
    "whoami\n",
    "pwd"
   ]
  },
  {
   "cell_type": "code",
   "execution_count": 56,
   "metadata": {
    "collapsed": false
   },
   "outputs": [
    {
     "name": "stdout",
     "output_type": "stream",
     "text": [
      "animals  lenghts  lengths  lengths.txt\tLesson 1.ipynb\tlines\r\n"
     ]
    }
   ],
   "source": [
    "! ls"
   ]
  },
  {
   "cell_type": "code",
   "execution_count": 57,
   "metadata": {
    "collapsed": true
   },
   "outputs": [],
   "source": [
    "! cd"
   ]
  },
  {
   "cell_type": "code",
   "execution_count": 9,
   "metadata": {
    "collapsed": false
   },
   "outputs": [
    {
     "name": "stdout",
     "output_type": "stream",
     "text": [
      "PWD(1)                           User Commands                          PWD(1)\n",
      "\n",
      "\n",
      "\n",
      "NAME\n",
      "       pwd - print name of current/working directory\n",
      "\n",
      "SYNOPSIS\n",
      "       pwd [OPTION]...\n",
      "\n",
      "DESCRIPTION\n",
      "       Print the full filename of the current working directory.\n",
      "\n",
      "       -L, --logical\n",
      "              use PWD from environment, even if it contains symlinks\n",
      "\n",
      "       -P, --physical\n",
      "              avoid all symlinks\n",
      "\n",
      "       --help display this help and exit\n",
      "\n",
      "       --version\n",
      "              output version information and exit\n",
      "\n",
      "       NOTE:  your shell may have its own version of pwd, which usually super‐\n",
      "       sedes the version described here.  Please refer to your  shell's  docu‐\n",
      "       mentation for details about the options it supports.\n",
      "\n",
      "       GNU  coreutils  online  help:  <http://www.gnu.org/software/coreutils/>\n",
      "       Report pwd translation bugs to <http://translationproject.org/team/>\n",
      "\n",
      "AUTHOR\n",
      "       Written by Jim Meyering.\n",
      "\n",
      "COPYRIGHT\n",
      "       Copyright © 2013 Free Software Foundation, Inc.   License  GPLv3+:  GNU\n",
      "       GPL version 3 or later <http://gnu.org/licenses/gpl.html>.\n",
      "       This  is  free  software:  you  are free to change and redistribute it.\n",
      "       There is NO WARRANTY, to the extent permitted by law.\n",
      "\n",
      "SEE ALSO\n",
      "       getcwd(3)\n",
      "\n",
      "       The full documentation for pwd is maintained as a Texinfo  manual.   If\n",
      "       the info and pwd programs are properly installed at your site, the com‐\n",
      "       mand\n",
      "\n",
      "              info coreutils 'pwd invocation'\n",
      "\n",
      "       should give you access to the complete manual.\n",
      "\n",
      "\n",
      "\n",
      "GNU coreutils 8.22               February 2016                          PWD(1)\n"
     ]
    }
   ],
   "source": [
    "%%bash\n",
    "! man pwd"
   ]
  },
  {
   "cell_type": "code",
   "execution_count": 14,
   "metadata": {
    "collapsed": false
   },
   "outputs": [
    {
     "name": "stdout",
     "output_type": "stream",
     "text": [
      "get_current_dir_name (3) - get current working directory\n",
      "getcwd (2)           - get current working directory\n",
      "getcwd (3)           - get current working directory\n",
      "getwd (3)            - get current working directory\n",
      "cd (1p)              - change the working directory\n",
      "cd (n)               - Change working directory\n",
      "chdir (2)            - change working directory\n",
      "chdir (3p)           - change working directory\n",
      "Cwd (3pm)            - get pathname of current working directory\n",
      "fchdir (2)           - change working directory\n",
      "fchdir (3p)          - change working directory\n",
      "getcwd (3p)          - get the pathname of the current working directory\n",
      "getwd (3p)           - get the current working directory pathname (LEGACY)\n",
      "git-stash (1)        - Stash the changes in a dirty working directory away\n",
      "pwd (1)              - print name of current/working directory\n",
      "pwd (1p)             - return working directory name\n",
      "pwd (n)              - Return the absolute path of the current working directory\n",
      "pwdx (1)             - report current working directory of a process\n",
      "Tcl_Chdir (3)        - manipulate the current working directory\n",
      "Tcl_GetCwd (3)       - manipulate the current working directory\n"
     ]
    }
   ],
   "source": [
    "! apropos 'working directory' "
   ]
  },
  {
   "cell_type": "code",
   "execution_count": 1,
   "metadata": {
    "collapsed": false
   },
   "outputs": [
    {
     "name": "stdout",
     "output_type": "stream",
     "text": [
      "ls: cannot access help: No such file or directory\r\n"
     ]
    }
   ],
   "source": [
    "ls help"
   ]
  },
  {
   "cell_type": "markdown",
   "metadata": {},
   "source": [
    "# Lecture 2\n",
    "\n",
    "- bg to put things in the background\n",
    "- touch filename to create a text file\n",
    "- more filename to show more from file\n",
    "- cp filename(to copy) filename2(where to copy) to copy\n",
    "- rm -i filename to remove"
   ]
  },
  {
   "cell_type": "code",
   "execution_count": 50,
   "metadata": {
    "collapsed": false
   },
   "outputs": [
    {
     "name": "stdout",
     "output_type": "stream",
     "text": [
      "  534  1244 11035 Lesson 1.ipynb\r\n"
     ]
    }
   ],
   "source": [
    "!wc *.ipynb"
   ]
  },
  {
   "cell_type": "markdown",
   "metadata": {},
   "source": [
    "- !wc -l *.ipynb number of lines\n",
    "- !wc -w *.ipynb number of words"
   ]
  },
  {
   "cell_type": "code",
   "execution_count": 35,
   "metadata": {
    "collapsed": false
   },
   "outputs": [
    {
     "name": "stdout",
     "output_type": "stream",
     "text": [
      "534 Lesson 1.ipynb\r\n"
     ]
    }
   ],
   "source": [
    "!wc -l *.ipynb"
   ]
  },
  {
   "cell_type": "code",
   "execution_count": 36,
   "metadata": {
    "collapsed": false
   },
   "outputs": [
    {
     "name": "stdout",
     "output_type": "stream",
     "text": [
      "1244 Lesson 1.ipynb\r\n"
     ]
    }
   ],
   "source": [
    "!wc -w *.ipynb"
   ]
  },
  {
   "cell_type": "code",
   "execution_count": 37,
   "metadata": {
    "collapsed": true
   },
   "outputs": [],
   "source": [
    "!wc -w *.ipynb >> lengths.txt"
   ]
  },
  {
   "cell_type": "code",
   "execution_count": 38,
   "metadata": {
    "collapsed": false
   },
   "outputs": [
    {
     "name": "stdout",
     "output_type": "stream",
     "text": [
      "1244 Lesson 1.ipynb\r\n"
     ]
    }
   ],
   "source": [
    "!more lengths"
   ]
  },
  {
   "cell_type": "code",
   "execution_count": 39,
   "metadata": {
    "collapsed": false
   },
   "outputs": [
    {
     "name": "stdout",
     "output_type": "stream",
     "text": [
      "/usr/bin/sh: -c: line 0: syntax error near unexpected token `('\r\n",
      "/usr/bin/sh: -c: line 0: `cat lengths (to get all without scrolling)'\r\n"
     ]
    }
   ],
   "source": [
    "!cat lengths (to get all without scrolling)"
   ]
  },
  {
   "cell_type": "code",
   "execution_count": 40,
   "metadata": {
    "collapsed": false
   },
   "outputs": [
    {
     "name": "stdout",
     "output_type": "stream",
     "text": [
      "/usr/bin/sh: -c: line 0: syntax error near unexpected token `('\r\n",
      "/usr/bin/sh: -c: line 0: `sort -n lengths.txt (orders by length)'\r\n"
     ]
    }
   ],
   "source": [
    "!sort -n lengths.txt (orders by length)"
   ]
  },
  {
   "cell_type": "code",
   "execution_count": 41,
   "metadata": {
    "collapsed": false
   },
   "outputs": [
    {
     "name": "stdout",
     "output_type": "stream",
     "text": [
      "cat: sorted-lengths.txt: No such file or directory\r\n"
     ]
    }
   ],
   "source": [
    "!cat sorted-lengths.txt"
   ]
  },
  {
   "cell_type": "code",
   "execution_count": 42,
   "metadata": {
    "collapsed": false
   },
   "outputs": [
    {
     "name": "stdout",
     "output_type": "stream",
     "text": [
      "head: cannot open ‘sorted-lengths.txt’ for reading: No such file or directory\r\n"
     ]
    }
   ],
   "source": [
    "!head -n 1 sorted-lengths.txt"
   ]
  },
  {
   "cell_type": "code",
   "execution_count": 43,
   "metadata": {
    "collapsed": false
   },
   "outputs": [
    {
     "name": "stdout",
     "output_type": "stream",
     "text": [
      "tail: cannot open ‘sorted-lengths.txt’ for reading: No such file or directory\r\n"
     ]
    }
   ],
   "source": [
    "!tail -n 1 sorted-lengths.txt"
   ]
  },
  {
   "cell_type": "markdown",
   "metadata": {},
   "source": [
    "- !wc -l *.ipynb | sort -n > newsort.txt\n",
    "- !wc -l *.ipynb | sort -n | head -1"
   ]
  },
  {
   "cell_type": "code",
   "execution_count": 44,
   "metadata": {
    "collapsed": true
   },
   "outputs": [],
   "source": [
    "%%bash\n",
    "echo '\n",
    "first line\n",
    "second line\n",
    "third line' > lines"
   ]
  },
  {
   "cell_type": "code",
   "execution_count": 48,
   "metadata": {
    "collapsed": false
   },
   "outputs": [
    {
     "name": "stdout",
     "output_type": "stream",
     "text": [
      "\r\n",
      "first line\r\n",
      "second line\r\n",
      "third line\r\n"
     ]
    }
   ],
   "source": [
    "!cat lines"
   ]
  },
  {
   "cell_type": "code",
   "execution_count": 46,
   "metadata": {
    "collapsed": true
   },
   "outputs": [],
   "source": [
    "%%bash\n",
    "echo 'lion\n",
    "panther\n",
    "tiger' > animals"
   ]
  },
  {
   "cell_type": "code",
   "execution_count": 47,
   "metadata": {
    "collapsed": false
   },
   "outputs": [
    {
     "name": "stdout",
     "output_type": "stream",
     "text": [
      "4 lines\r\n"
     ]
    }
   ],
   "source": [
    "!wc -l lines"
   ]
  },
  {
   "cell_type": "code",
   "execution_count": 60,
   "metadata": {
    "collapsed": false
   },
   "outputs": [
    {
     "name": "stdout",
     "output_type": "stream",
     "text": [
      "    3 animals\r\n",
      "    2 lenghts\r\n",
      "    1 lengths\r\n",
      "    3 lengths.txt\r\n",
      "  621 Lesson 1.ipynb\r\n",
      "    4 lines\r\n",
      "  634 total\r\n"
     ]
    }
   ],
   "source": [
    "!wc -l *"
   ]
  },
  {
   "cell_type": "code",
   "execution_count": 61,
   "metadata": {
    "collapsed": true
   },
   "outputs": [],
   "source": [
    "rm lenghts"
   ]
  },
  {
   "cell_type": "code",
   "execution_count": 62,
   "metadata": {
    "collapsed": false
   },
   "outputs": [
    {
     "name": "stdout",
     "output_type": "stream",
     "text": [
      "    3 animals\r\n",
      "    1 lengths\r\n",
      "    3 lengths.txt\r\n",
      "  621 Lesson 1.ipynb\r\n",
      "    4 lines\r\n",
      "  632 total\r\n"
     ]
    }
   ],
   "source": [
    "!wc -l *"
   ]
  },
  {
   "cell_type": "code",
   "execution_count": 63,
   "metadata": {
    "collapsed": false
   },
   "outputs": [
    {
     "name": "stdout",
     "output_type": "stream",
     "text": [
      "    3 animals\r\n"
     ]
    }
   ],
   "source": [
    "!wc -l * | sort -n | head -2 | tail -1"
   ]
  },
  {
   "cell_type": "markdown",
   "metadata": {},
   "source": [
    "## Wildcards\n",
    "- * stands for everything\n",
    "- ? everything, only one character"
   ]
  },
  {
   "cell_type": "code",
   "execution_count": 67,
   "metadata": {
    "collapsed": false
   },
   "outputs": [
    {
     "name": "stdout",
     "output_type": "stream",
     "text": [
      "animals  lengths  lengths.txt  Lesson 1.ipynb  lines\r\n"
     ]
    }
   ],
   "source": [
    "!ls ?[A-Z]*"
   ]
  },
  {
   "cell_type": "code",
   "execution_count": 68,
   "metadata": {
    "collapsed": false
   },
   "outputs": [
    {
     "name": "stdout",
     "output_type": "stream",
     "text": [
      "animals  lengths  lengths.txt  Lesson 1.ipynb  lines\r\n"
     ]
    }
   ],
   "source": [
    "!ls *[A-Z]*"
   ]
  },
  {
   "cell_type": "code",
   "execution_count": 71,
   "metadata": {
    "collapsed": true
   },
   "outputs": [],
   "source": [
    "%%bash\n",
    "echo '1\n",
    "10\n",
    "8\n",
    "2\n",
    "5' > numbers"
   ]
  },
  {
   "cell_type": "code",
   "execution_count": 72,
   "metadata": {
    "collapsed": false
   },
   "outputs": [
    {
     "name": "stdout",
     "output_type": "stream",
     "text": [
      "1\r\n",
      "2\r\n",
      "5\r\n",
      "8\r\n",
      "10\r\n"
     ]
    }
   ],
   "source": [
    "!cat numbers | sort -n | uniq"
   ]
  },
  {
   "cell_type": "code",
   "execution_count": 73,
   "metadata": {
    "collapsed": false
   },
   "outputs": [
    {
     "name": "stdout",
     "output_type": "stream",
     "text": [
      "son 1.ipynb\r\n"
     ]
    }
   ],
   "source": [
    "!wc -l *.ipynb | cut -c 8-25"
   ]
  },
  {
   "cell_type": "code",
   "execution_count": 77,
   "metadata": {
    "collapsed": false
   },
   "outputs": [
    {
     "name": "stdout",
     "output_type": "stream",
     "text": [
      "A beautiful morning in Innsbruck\r\n"
     ]
    }
   ],
   "source": [
    "!echo 'A beautiful    morning in Innsbruck' | tr -s ' '"
   ]
  },
  {
   "cell_type": "code",
   "execution_count": 80,
   "metadata": {
    "collapsed": false
   },
   "outputs": [
    {
     "name": "stdout",
     "output_type": "stream",
     "text": [
      "A beautiful morning in Innsbruck "
     ]
    }
   ],
   "source": [
    "%%bash\n",
    "echo 'A \n",
    "beautiful \n",
    "morning\n",
    "in\n",
    "Innsbruck' | tr '\\n' ' ' | tr -s ' '"
   ]
  },
  {
   "cell_type": "markdown",
   "metadata": {},
   "source": [
    "## Loops"
   ]
  },
  {
   "cell_type": "code",
   "execution_count": 103,
   "metadata": {
    "collapsed": false
   },
   "outputs": [],
   "source": [
    "%%bash\n",
    "echo '#!/usr/bin/env bash\n",
    "# this file lists all the python notebooks and their first five lines\n",
    "for filename in *.ipynb\n",
    "do\n",
    "    echo \"This file is: \" $filename\n",
    "    head -5 $filename\n",
    "done' > script.sh\n",
    "chmod +x script.sh"
   ]
  },
  {
   "cell_type": "code",
   "execution_count": 98,
   "metadata": {
    "collapsed": false
   },
   "outputs": [
    {
     "name": "stdout",
     "output_type": "stream",
     "text": [
      "script.sh*\r\n"
     ]
    }
   ],
   "source": [
    "!ls -F script.sh"
   ]
  },
  {
   "cell_type": "code",
   "execution_count": 100,
   "metadata": {
    "collapsed": false
   },
   "outputs": [
    {
     "name": "stdout",
     "output_type": "stream",
     "text": [
      "This file is:  Lesson_1.ipynb\r\n",
      "{\r\n",
      " \"cells\": [\r\n",
      "  {\r\n",
      "   \"cell_type\": \"code\",\r\n",
      "   \"execution_count\": 51,\r\n"
     ]
    }
   ],
   "source": [
    "!./script.sh"
   ]
  },
  {
   "cell_type": "code",
   "execution_count": 102,
   "metadata": {
    "collapsed": false
   },
   "outputs": [
    {
     "name": "stdout",
     "output_type": "stream",
     "text": [
      "This file is:  Lesson_1.ipynb\r\n",
      "{\r\n",
      " \"cells\": [\r\n",
      "  {\r\n",
      "   \"cell_type\": \"code\",\r\n",
      "   \"execution_count\": 51,\r\n"
     ]
    }
   ],
   "source": [
    "!for filename in *.ipynb; do echo \"This file is: \" $filename; head -5 $filename; done"
   ]
  },
  {
   "cell_type": "code",
   "execution_count": 104,
   "metadata": {
    "collapsed": true
   },
   "outputs": [],
   "source": [
    "%%bash\n",
    "echo '#!/usr/bin/env bash' > script2.sh\n",
    "echo '\n",
    "for filename in \"$@\"\n",
    "do\n",
    "    echo $filename\n",
    "    head -40 $filename | tail -n 1\n",
    "done' >> script2.sh\n",
    "chmod +x script2.sh"
   ]
  },
  {
   "cell_type": "code",
   "execution_count": 106,
   "metadata": {
    "collapsed": false
   },
   "outputs": [
    {
     "name": "stderr",
     "output_type": "stream",
     "text": [
      "bash: line 17: script3.sh: command not found\n"
     ]
    }
   ],
   "source": [
    "%%bash\n",
    "echo '#!/usr/bin/env bash' > script3.sh\n",
    "echo '\n",
    "dir0=\"/dir/\"\n",
    "ARRAY=(\n",
    "\"val1\"\n",
    "\"val2\"\n",
    "\"val3\"\n",
    ")\n",
    "echo \"2nd value is\"${ARRAY[1]}\n",
    "for name in \"${ARRAY[@]}\"\n",
    "do\n",
    "    echo $dir0$name\n",
    "done\n",
    "' >> script3.sh\n",
    "\n",
    "chmod +x script3.sh\n",
    "script3.sh"
   ]
  },
  {
   "cell_type": "code",
   "execution_count": 115,
   "metadata": {
    "collapsed": true
   },
   "outputs": [],
   "source": [
    "%%bash\n",
    "echo 'mars\n",
    "earth\n",
    "jupiter\n",
    "satUrn\n",
    "venus' > list_of_planets"
   ]
  },
  {
   "cell_type": "code",
   "execution_count": 108,
   "metadata": {
    "collapsed": false
   },
   "outputs": [
    {
     "name": "stdout",
     "output_type": "stream",
     "text": [
      "saturn\r\n"
     ]
    }
   ],
   "source": [
    "!grep \"ur\" list_of_planets"
   ]
  },
  {
   "cell_type": "code",
   "execution_count": 109,
   "metadata": {
    "collapsed": false
   },
   "outputs": [
    {
     "name": "stdout",
     "output_type": "stream",
     "text": [
      "jupiter\r\n",
      "saturn\r\n"
     ]
    }
   ],
   "source": [
    "!grep \"t.r\" list_of_planets"
   ]
  },
  {
   "cell_type": "code",
   "execution_count": 110,
   "metadata": {
    "collapsed": false
   },
   "outputs": [
    {
     "name": "stdout",
     "output_type": "stream",
     "text": [
      "jupiter\r\n"
     ]
    }
   ],
   "source": [
    "!grep \"t[ea]r\" list_of_planets"
   ]
  },
  {
   "cell_type": "code",
   "execution_count": 111,
   "metadata": {
    "collapsed": false
   },
   "outputs": [
    {
     "name": "stdout",
     "output_type": "stream",
     "text": [
      "saturn\r\n",
      "venus\r\n"
     ]
    }
   ],
   "source": [
    "!grep \"u[rs]\" list_of_planets"
   ]
  },
  {
   "cell_type": "code",
   "execution_count": 117,
   "metadata": {
    "collapsed": false
   },
   "outputs": [
    {
     "name": "stdout",
     "output_type": "stream",
     "text": [
      "5:venus\r\n"
     ]
    }
   ],
   "source": [
    "!grep -n \"u[rs]\" list_of_planets"
   ]
  },
  {
   "cell_type": "code",
   "execution_count": 116,
   "metadata": {
    "collapsed": false
   },
   "outputs": [
    {
     "name": "stdout",
     "output_type": "stream",
     "text": [
      "satUrn\r\n",
      "venus\r\n"
     ]
    }
   ],
   "source": [
    "!grep -i \"u[rs]\" list_of_planets\n",
    "# -i not sensitive"
   ]
  },
  {
   "cell_type": "code",
   "execution_count": 118,
   "metadata": {
    "collapsed": false
   },
   "outputs": [
    {
     "name": "stdout",
     "output_type": "stream",
     "text": [
      "mars\r\n",
      "earth\r\n",
      "jupiter\r\n"
     ]
    }
   ],
   "source": [
    "!grep -v -i \"u[rs]\" list_of_planets\n",
    "# -v to get the complement"
   ]
  },
  {
   "cell_type": "code",
   "execution_count": 119,
   "metadata": {
    "collapsed": false
   },
   "outputs": [
    {
     "name": "stdout",
     "output_type": "stream",
     "text": [
      "earth\r\n",
      "satUrn\r\n"
     ]
    }
   ],
   "source": [
    "!grep -e '^[es].*' list_of_planets\n",
    "#everything that has es "
   ]
  },
  {
   "cell_type": "code",
   "execution_count": 122,
   "metadata": {
    "collapsed": false
   },
   "outputs": [
    {
     "name": "stdout",
     "output_type": "stream",
     "text": [
      "./numbers\r\n"
     ]
    }
   ],
   "source": [
    "!find . -name \"*er*\"\n",
    "#find all that has \"er\""
   ]
  },
  {
   "cell_type": "code",
   "execution_count": 125,
   "metadata": {
    "collapsed": false
   },
   "outputs": [
    {
     "name": "stdout",
     "output_type": "stream",
     "text": [
      ".\r\n",
      "./.ipynb_checkpoints\r\n"
     ]
    }
   ],
   "source": [
    "!find . -type d"
   ]
  },
  {
   "cell_type": "code",
   "execution_count": 126,
   "metadata": {
    "collapsed": false
   },
   "outputs": [
    {
     "name": "stdout",
     "output_type": "stream",
     "text": [
      "The cat walks on the roof\r\n"
     ]
    }
   ],
   "source": [
    "!echo 'The cat runs on the roof' | sed 's/run/walk/'\n",
    "#substitute one word for another"
   ]
  },
  {
   "cell_type": "code",
   "execution_count": 127,
   "metadata": {
    "collapsed": true
   },
   "outputs": [],
   "source": [
    "!echo 'This file is rotten' > file.txt"
   ]
  },
  {
   "cell_type": "code",
   "execution_count": 128,
   "metadata": {
    "collapsed": false
   },
   "outputs": [
    {
     "name": "stdout",
     "output_type": "stream",
     "text": [
      "This file is rotten\r\n"
     ]
    }
   ],
   "source": [
    "!cat file.txt"
   ]
  },
  {
   "cell_type": "code",
   "execution_count": 129,
   "metadata": {
    "collapsed": true
   },
   "outputs": [],
   "source": [
    "!perl -pi -e 's/rotten/fresh/' file.txt\n",
    "#to replace one word for another"
   ]
  },
  {
   "cell_type": "code",
   "execution_count": 130,
   "metadata": {
    "collapsed": false
   },
   "outputs": [
    {
     "name": "stdout",
     "output_type": "stream",
     "text": [
      "This file is fresh\r\n"
     ]
    }
   ],
   "source": [
    "!cat file.txt"
   ]
  },
  {
   "cell_type": "code",
   "execution_count": null,
   "metadata": {
    "collapsed": true
   },
   "outputs": [],
   "source": []
  }
 ],
 "metadata": {
  "kernelspec": {
   "display_name": "Python [conda root]",
   "language": "python",
   "name": "conda-root-py"
  },
  "language_info": {
   "codemirror_mode": {
    "name": "ipython",
    "version": 2
   },
   "file_extension": ".py",
   "mimetype": "text/x-python",
   "name": "python",
   "nbconvert_exporter": "python",
   "pygments_lexer": "ipython2",
   "version": "2.7.12"
  }
 },
 "nbformat": 4,
 "nbformat_minor": 1
}
